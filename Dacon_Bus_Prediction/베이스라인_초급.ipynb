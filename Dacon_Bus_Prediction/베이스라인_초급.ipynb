{
  "nbformat": 4,
  "nbformat_minor": 0,
  "metadata": {
    "colab": {
      "name": "베이스라인_초급.ipynb",
      "provenance": [],
      "collapsed_sections": [],
      "mount_file_id": "1NBQfm60vJSNE3oXdbp_eKYmYG3CA3EIM",
      "authorship_tag": "ABX9TyPIN6PFCfjbFBPGBvA76gpM"
    },
    "kernelspec": {
      "name": "python3",
      "display_name": "Python 3"
    },
    "language_info": {
      "name": "python"
    },
    "accelerator": "GPU"
  },
  "cells": [
    {
      "cell_type": "code",
      "metadata": {
        "id": "PvhsNK0vhyTM"
      },
      "source": [
        "import pandas as pd\n",
        "import warnings\n",
        "warnings.filterwarnings('ignore')"
      ],
      "execution_count": 1,
      "outputs": []
    },
    {
      "cell_type": "code",
      "metadata": {
        "colab": {
          "base_uri": "https://localhost:8080/"
        },
        "id": "x0C2xwGzXCvW",
        "outputId": "7d0df26b-40bd-4169-e9d8-c9eca9481e2d"
      },
      "source": [
        "from google.colab import drive\n",
        "drive.mount('/content/drive')"
      ],
      "execution_count": 2,
      "outputs": [
        {
          "output_type": "stream",
          "text": [
            "Drive already mounted at /content/drive; to attempt to forcibly remount, call drive.mount(\"/content/drive\", force_remount=True).\n"
          ],
          "name": "stdout"
        }
      ]
    },
    {
      "cell_type": "code",
      "metadata": {
        "id": "ecG-QMfZlfA4"
      },
      "source": [
        "train = pd.read_csv('/content/drive/MyDrive/데이콘/퇴근시간버스승차예측/data/train.csv')\n",
        "test = pd.read_csv('/content/drive/MyDrive/데이콘/퇴근시간버스승차예측/data/test.csv')"
      ],
      "execution_count": 3,
      "outputs": []
    },
    {
      "cell_type": "code",
      "metadata": {
        "id": "QWqio9_HlxB-",
        "colab": {
          "base_uri": "https://localhost:8080/",
          "height": 309
        },
        "outputId": "6ad11700-5938-426b-dd72-af66d50f71a5"
      },
      "source": [
        "train.head()"
      ],
      "execution_count": 4,
      "outputs": [
        {
          "output_type": "execute_result",
          "data": {
            "text/html": [
              "<div>\n",
              "<style scoped>\n",
              "    .dataframe tbody tr th:only-of-type {\n",
              "        vertical-align: middle;\n",
              "    }\n",
              "\n",
              "    .dataframe tbody tr th {\n",
              "        vertical-align: top;\n",
              "    }\n",
              "\n",
              "    .dataframe thead th {\n",
              "        text-align: right;\n",
              "    }\n",
              "</style>\n",
              "<table border=\"1\" class=\"dataframe\">\n",
              "  <thead>\n",
              "    <tr style=\"text-align: right;\">\n",
              "      <th></th>\n",
              "      <th>id</th>\n",
              "      <th>date</th>\n",
              "      <th>bus_route_id</th>\n",
              "      <th>in_out</th>\n",
              "      <th>station_code</th>\n",
              "      <th>station_name</th>\n",
              "      <th>latitude</th>\n",
              "      <th>longitude</th>\n",
              "      <th>6~7_ride</th>\n",
              "      <th>7~8_ride</th>\n",
              "      <th>8~9_ride</th>\n",
              "      <th>9~10_ride</th>\n",
              "      <th>10~11_ride</th>\n",
              "      <th>11~12_ride</th>\n",
              "      <th>6~7_takeoff</th>\n",
              "      <th>7~8_takeoff</th>\n",
              "      <th>8~9_takeoff</th>\n",
              "      <th>9~10_takeoff</th>\n",
              "      <th>10~11_takeoff</th>\n",
              "      <th>11~12_takeoff</th>\n",
              "      <th>18~20_ride</th>\n",
              "    </tr>\n",
              "  </thead>\n",
              "  <tbody>\n",
              "    <tr>\n",
              "      <th>0</th>\n",
              "      <td>0</td>\n",
              "      <td>2019-09-01</td>\n",
              "      <td>4270000</td>\n",
              "      <td>시외</td>\n",
              "      <td>344</td>\n",
              "      <td>제주썬호텔</td>\n",
              "      <td>33.48990</td>\n",
              "      <td>126.49373</td>\n",
              "      <td>0.0</td>\n",
              "      <td>1.0</td>\n",
              "      <td>2.0</td>\n",
              "      <td>5.0</td>\n",
              "      <td>2.0</td>\n",
              "      <td>6.0</td>\n",
              "      <td>0.0</td>\n",
              "      <td>0.0</td>\n",
              "      <td>0.0</td>\n",
              "      <td>0.0</td>\n",
              "      <td>0.0</td>\n",
              "      <td>0.0</td>\n",
              "      <td>0.0</td>\n",
              "    </tr>\n",
              "    <tr>\n",
              "      <th>1</th>\n",
              "      <td>1</td>\n",
              "      <td>2019-09-01</td>\n",
              "      <td>4270000</td>\n",
              "      <td>시외</td>\n",
              "      <td>357</td>\n",
              "      <td>한라병원</td>\n",
              "      <td>33.48944</td>\n",
              "      <td>126.48508</td>\n",
              "      <td>1.0</td>\n",
              "      <td>4.0</td>\n",
              "      <td>4.0</td>\n",
              "      <td>2.0</td>\n",
              "      <td>5.0</td>\n",
              "      <td>6.0</td>\n",
              "      <td>0.0</td>\n",
              "      <td>0.0</td>\n",
              "      <td>0.0</td>\n",
              "      <td>0.0</td>\n",
              "      <td>0.0</td>\n",
              "      <td>0.0</td>\n",
              "      <td>5.0</td>\n",
              "    </tr>\n",
              "    <tr>\n",
              "      <th>2</th>\n",
              "      <td>2</td>\n",
              "      <td>2019-09-01</td>\n",
              "      <td>4270000</td>\n",
              "      <td>시외</td>\n",
              "      <td>432</td>\n",
              "      <td>정존마을</td>\n",
              "      <td>33.48181</td>\n",
              "      <td>126.47352</td>\n",
              "      <td>1.0</td>\n",
              "      <td>1.0</td>\n",
              "      <td>0.0</td>\n",
              "      <td>2.0</td>\n",
              "      <td>0.0</td>\n",
              "      <td>0.0</td>\n",
              "      <td>0.0</td>\n",
              "      <td>0.0</td>\n",
              "      <td>0.0</td>\n",
              "      <td>0.0</td>\n",
              "      <td>0.0</td>\n",
              "      <td>0.0</td>\n",
              "      <td>2.0</td>\n",
              "    </tr>\n",
              "    <tr>\n",
              "      <th>3</th>\n",
              "      <td>3</td>\n",
              "      <td>2019-09-01</td>\n",
              "      <td>4270000</td>\n",
              "      <td>시내</td>\n",
              "      <td>1579</td>\n",
              "      <td>제주국제공항(600번)</td>\n",
              "      <td>33.50577</td>\n",
              "      <td>126.49252</td>\n",
              "      <td>0.0</td>\n",
              "      <td>17.0</td>\n",
              "      <td>6.0</td>\n",
              "      <td>26.0</td>\n",
              "      <td>14.0</td>\n",
              "      <td>16.0</td>\n",
              "      <td>0.0</td>\n",
              "      <td>0.0</td>\n",
              "      <td>0.0</td>\n",
              "      <td>0.0</td>\n",
              "      <td>0.0</td>\n",
              "      <td>0.0</td>\n",
              "      <td>53.0</td>\n",
              "    </tr>\n",
              "    <tr>\n",
              "      <th>4</th>\n",
              "      <td>4</td>\n",
              "      <td>2019-09-01</td>\n",
              "      <td>4270000</td>\n",
              "      <td>시내</td>\n",
              "      <td>1646</td>\n",
              "      <td>중문관광단지입구</td>\n",
              "      <td>33.25579</td>\n",
              "      <td>126.41260</td>\n",
              "      <td>0.0</td>\n",
              "      <td>0.0</td>\n",
              "      <td>0.0</td>\n",
              "      <td>0.0</td>\n",
              "      <td>0.0</td>\n",
              "      <td>0.0</td>\n",
              "      <td>0.0</td>\n",
              "      <td>0.0</td>\n",
              "      <td>0.0</td>\n",
              "      <td>1.0</td>\n",
              "      <td>0.0</td>\n",
              "      <td>0.0</td>\n",
              "      <td>0.0</td>\n",
              "    </tr>\n",
              "  </tbody>\n",
              "</table>\n",
              "</div>"
            ],
            "text/plain": [
              "   id        date  bus_route_id  ... 10~11_takeoff  11~12_takeoff 18~20_ride\n",
              "0   0  2019-09-01       4270000  ...           0.0            0.0        0.0\n",
              "1   1  2019-09-01       4270000  ...           0.0            0.0        5.0\n",
              "2   2  2019-09-01       4270000  ...           0.0            0.0        2.0\n",
              "3   3  2019-09-01       4270000  ...           0.0            0.0       53.0\n",
              "4   4  2019-09-01       4270000  ...           0.0            0.0        0.0\n",
              "\n",
              "[5 rows x 21 columns]"
            ]
          },
          "metadata": {
            "tags": []
          },
          "execution_count": 4
        }
      ]
    },
    {
      "cell_type": "markdown",
      "metadata": {
        "id": "QoKo2Ce0YirH"
      },
      "source": [
        "data 컬럼을 판다스의 datetime 변수형으로 변환."
      ]
    },
    {
      "cell_type": "code",
      "metadata": {
        "id": "o5c_l1wAl0Cm",
        "colab": {
          "base_uri": "https://localhost:8080/"
        },
        "outputId": "684163ca-5732-4c17-b982-563aa8180a3a"
      },
      "source": [
        "train['date'] = pd.to_datetime(train['date'])\n",
        "print(train['date'])"
      ],
      "execution_count": 5,
      "outputs": [
        {
          "output_type": "stream",
          "text": [
            "0        2019-09-01\n",
            "1        2019-09-01\n",
            "2        2019-09-01\n",
            "3        2019-09-01\n",
            "4        2019-09-01\n",
            "            ...    \n",
            "415418   2019-09-30\n",
            "415419   2019-09-30\n",
            "415420   2019-09-30\n",
            "415421   2019-09-30\n",
            "415422   2019-09-30\n",
            "Name: date, Length: 415423, dtype: datetime64[ns]\n"
          ],
          "name": "stdout"
        }
      ]
    },
    {
      "cell_type": "markdown",
      "metadata": {
        "id": "f9yAtQdCYrLl"
      },
      "source": [
        "date 컬럼으로부터 요일을 뽑아냄."
      ]
    },
    {
      "cell_type": "code",
      "metadata": {
        "id": "FoVMIYsFXbKM"
      },
      "source": [
        "train['weekday'] = train['date'].dt.weekday"
      ],
      "execution_count": 6,
      "outputs": []
    },
    {
      "cell_type": "markdown",
      "metadata": {
        "id": "QO9NHBdUY9qp"
      },
      "source": [
        "weekday에 대한 one hot encoding을 실행."
      ]
    },
    {
      "cell_type": "code",
      "metadata": {
        "id": "vnxtsTTuYgLf"
      },
      "source": [
        "train = pd.get_dummies(train, columns=['weekday'])"
      ],
      "execution_count": 7,
      "outputs": []
    },
    {
      "cell_type": "code",
      "metadata": {
        "id": "_rYaWMGUZBkS"
      },
      "source": [
        "test['date'] = pd.to_datetime(test['date'])\n",
        "test['weekday'] = test['date'].dt.weekday\n",
        "test = pd.get_dummies(test, columns=['weekday'])"
      ],
      "execution_count": 8,
      "outputs": []
    },
    {
      "cell_type": "code",
      "metadata": {
        "colab": {
          "base_uri": "https://localhost:8080/"
        },
        "id": "3PWObtpyZQrg",
        "outputId": "ca95343c-ba29-4aa3-b40b-b44fbfa92db6"
      },
      "source": [
        "train['in_out'].value_counts()"
      ],
      "execution_count": 9,
      "outputs": [
        {
          "output_type": "execute_result",
          "data": {
            "text/plain": [
              "시내    408500\n",
              "시외      6923\n",
              "Name: in_out, dtype: int64"
            ]
          },
          "metadata": {
            "tags": []
          },
          "execution_count": 9
        }
      ]
    },
    {
      "cell_type": "code",
      "metadata": {
        "id": "3FEGSokqZVkF"
      },
      "source": [
        "train['in_out'] = train['in_out'].map({'시내':0, '시외':1})"
      ],
      "execution_count": 10,
      "outputs": []
    },
    {
      "cell_type": "code",
      "metadata": {
        "id": "8tShJDS9ZkUP"
      },
      "source": [
        "test['in_out'] = test['in_out'].map({'시내':0, '시외':1})"
      ],
      "execution_count": 11,
      "outputs": []
    },
    {
      "cell_type": "markdown",
      "metadata": {
        "id": "kUv2UM1TZsbL"
      },
      "source": [
        "## 좌표 데이터를 이용한 Feature Engineering\n",
        "제주도의 인구는 서귀포시와 제주시에 몰려 있는 경우가 많다.\n",
        "\n",
        "그러므로 해당 지역과의 거리를 각각 feature로 추가함.\n",
        "\n",
        "dis_jejusi: 버스정류장과 제주시와의 거리\n",
        "\n",
        "dis_seoquipo: 버스정류장과 서귀포시와의 거리\n",
        "\n",
        "제주시의 위.경도: 33.500770, 126.522761\n",
        "\n",
        "서귀포시의 위.경도: 33.259429, 126.558217\n",
        "\n",
        "2개의 좌표 간의 거리를 구하는 함수는 파이썬의 geopy 패키지에 존재한다."
      ]
    },
    {
      "cell_type": "code",
      "metadata": {
        "colab": {
          "base_uri": "https://localhost:8080/"
        },
        "id": "-Cd9von6Zq4g",
        "outputId": "6c305034-2629-4f7f-a781-90806ae9e9d8"
      },
      "source": [
        "!pip install geopy"
      ],
      "execution_count": 12,
      "outputs": [
        {
          "output_type": "stream",
          "text": [
            "Requirement already satisfied: geopy in /usr/local/lib/python3.7/dist-packages (1.17.0)\n",
            "Requirement already satisfied: geographiclib<2,>=1.49 in /usr/local/lib/python3.7/dist-packages (from geopy) (1.50)\n"
          ],
          "name": "stdout"
        }
      ]
    },
    {
      "cell_type": "code",
      "metadata": {
        "id": "Y01VP89XaVnF"
      },
      "source": [
        "import geopy.distance"
      ],
      "execution_count": 13,
      "outputs": []
    },
    {
      "cell_type": "code",
      "metadata": {
        "id": "GaQEPm7daYRi"
      },
      "source": [
        "coords_jejusi = (33.500770, 126.522761)\n",
        "coords_seoquipo = (33.259429, 126.558217)"
      ],
      "execution_count": 14,
      "outputs": []
    },
    {
      "cell_type": "code",
      "metadata": {
        "id": "SwzbwNFeahDO"
      },
      "source": [
        "train['dis_jejusi'] = [geopy.distance.vincenty((train['latitude'].iloc[i], train['longitude'].iloc[i]), coords_jejusi).km  for i in range(len(train))]\n",
        "train['dis_seoquipo'] = [geopy.distance.vincenty((train['latitude'].iloc[i], train['longitude'].iloc[i]), coords_seoquipo).km  for i in range(len(train))]"
      ],
      "execution_count": 15,
      "outputs": []
    },
    {
      "cell_type": "code",
      "metadata": {
        "colab": {
          "base_uri": "https://localhost:8080/"
        },
        "id": "0YrhT7gCbC8V",
        "outputId": "94565a81-5b1a-415e-f739-83faa54f9d09"
      },
      "source": [
        "train['dis_jejusi'].corr(train['18~20_ride'])"
      ],
      "execution_count": 16,
      "outputs": [
        {
          "output_type": "execute_result",
          "data": {
            "text/plain": [
              "-0.12380548460763058"
            ]
          },
          "metadata": {
            "tags": []
          },
          "execution_count": 16
        }
      ]
    },
    {
      "cell_type": "code",
      "metadata": {
        "colab": {
          "base_uri": "https://localhost:8080/"
        },
        "id": "VFSlJzrpbPO2",
        "outputId": "d5878e2f-592c-48e4-b062-e7e62fb6243e"
      },
      "source": [
        "train['dis_seoquipo'].corr(train['18~20_ride'])"
      ],
      "execution_count": 17,
      "outputs": [
        {
          "output_type": "execute_result",
          "data": {
            "text/plain": [
              "0.022087013666358277"
            ]
          },
          "metadata": {
            "tags": []
          },
          "execution_count": 17
        }
      ]
    },
    {
      "cell_type": "markdown",
      "metadata": {
        "id": "7Ms5aD_wbY0c"
      },
      "source": [
        "제주시와의 거리가 멀면 멀수록 승차인원이 줄어드는 경향을 보이나\n",
        "\n",
        "서귀포시와의 거리는 모호한 상관성을 띄고 있다."
      ]
    },
    {
      "cell_type": "code",
      "metadata": {
        "id": "KjiaLc8obVR4"
      },
      "source": [
        "test['dis_jejusi'] = [geopy.distance.vincenty((test['latitude'].iloc[i], test['longitude'].iloc[i]), coords_jejusi).km  for i in range(len(test))]\n",
        "test['dis_seoquipo'] = [geopy.distance.vincenty((test['latitude'].iloc[i], test['longitude'].iloc[i]), coords_seoquipo).km  for i in range(len(test))]"
      ],
      "execution_count": 18,
      "outputs": []
    },
    {
      "cell_type": "markdown",
      "metadata": {
        "id": "XvDghRKUb0xY"
      },
      "source": [
        "## RandomForest을 활용한 modeling\n",
        "sklearn 내부의 randomforest 함수를 이용한 모델링을 진행.\n",
        "\n",
        "머신러닝 학습에 활용할 input 변수와 target 변수를 정의.\n",
        "\n"
      ]
    },
    {
      "cell_type": "code",
      "metadata": {
        "id": "K1XU68b-bvH0"
      },
      "source": [
        "input_var=['in_out','latitude','longitude','6~7_ride', '7~8_ride', '8~9_ride', '9~10_ride',\n",
        "       '10~11_ride', '11~12_ride', '6~7_takeoff', '7~8_takeoff', '8~9_takeoff',\n",
        "       '9~10_takeoff', '10~11_takeoff', '11~12_takeoff','weekday_0', 'weekday_1', 'weekday_2', 'weekday_3', 'weekday_4',\n",
        "       'weekday_5', 'weekday_6', 'dis_jejusi', 'dis_seoquipo']\n",
        "target=['18~20_ride']"
      ],
      "execution_count": 19,
      "outputs": []
    },
    {
      "cell_type": "code",
      "metadata": {
        "id": "I-sv0jHQcCnz"
      },
      "source": [
        "X_train = train[input_var]\n",
        "y_train = train[target]\n",
        "X_test = test[input_var]"
      ],
      "execution_count": 20,
      "outputs": []
    },
    {
      "cell_type": "code",
      "metadata": {
        "id": "Kxqel3FdcK9N"
      },
      "source": [
        "from sklearn.ensemble import RandomForestRegressor\n",
        "\n",
        "rf = RandomForestRegressor(random_state = 1217)"
      ],
      "execution_count": 21,
      "outputs": []
    },
    {
      "cell_type": "code",
      "metadata": {
        "colab": {
          "base_uri": "https://localhost:8080/"
        },
        "id": "QPS-U4r6cU0d",
        "outputId": "83f6963d-2894-4ab3-dfff-f21b26635758"
      },
      "source": [
        "rf.fit(X_train, y_train)"
      ],
      "execution_count": 22,
      "outputs": [
        {
          "output_type": "execute_result",
          "data": {
            "text/plain": [
              "RandomForestRegressor(bootstrap=True, ccp_alpha=0.0, criterion='mse',\n",
              "                      max_depth=None, max_features='auto', max_leaf_nodes=None,\n",
              "                      max_samples=None, min_impurity_decrease=0.0,\n",
              "                      min_impurity_split=None, min_samples_leaf=1,\n",
              "                      min_samples_split=2, min_weight_fraction_leaf=0.0,\n",
              "                      n_estimators=100, n_jobs=None, oob_score=False,\n",
              "                      random_state=1217, verbose=0, warm_start=False)"
            ]
          },
          "metadata": {
            "tags": []
          },
          "execution_count": 22
        }
      ]
    },
    {
      "cell_type": "code",
      "metadata": {
        "id": "URyp6FDTcXvD"
      },
      "source": [
        "test['18~20_ride'] = rf.predict(X_test)\n",
        "test[['id', '18~20_ride']].to_csv(\"dacon_base_line_easy.csv\", index=False)"
      ],
      "execution_count": 24,
      "outputs": []
    }
  ]
}
