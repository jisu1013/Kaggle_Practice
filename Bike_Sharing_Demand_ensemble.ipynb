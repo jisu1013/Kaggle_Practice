{
  "nbformat": 4,
  "nbformat_minor": 0,
  "metadata": {
    "colab": {
      "name": "Bike Sharing Demand_ensemble.ipynb",
      "provenance": [],
      "collapsed_sections": [],
      "authorship_tag": "ABX9TyPx6CO+ur7iILlcYTQ+FzIB",
      "include_colab_link": true
    },
    "kernelspec": {
      "name": "python3",
      "display_name": "Python 3"
    }
  },
  "cells": [
    {
      "cell_type": "markdown",
      "metadata": {
        "id": "view-in-github",
        "colab_type": "text"
      },
      "source": [
        "<a href=\"https://colab.research.google.com/github/jisu1013/kaggle_practice/blob/main/Bike_Sharing_Demand_ensemble.ipynb\" target=\"_parent\"><img src=\"https://colab.research.google.com/assets/colab-badge.svg\" alt=\"Open In Colab\"/></a>"
      ]
    },
    {
      "cell_type": "markdown",
      "metadata": {
        "id": "io7MgL0W-oS6"
      },
      "source": [
        "**Load_data**"
      ]
    },
    {
      "cell_type": "code",
      "metadata": {
        "id": "-bjLiT1J9tJk"
      },
      "source": [
        "import pandas as pd\r\n",
        "import numpy as np\r\n",
        "\r\n",
        "import matplotlib as mpl\r\n",
        "import matplotlib.pyplot as plt\r\n",
        "import seaborn as sns\r\n",
        "\r\n",
        "#노트북 안에 그래프를 그리기 위해\r\n",
        "%matplotlib inline\r\n",
        "#그래프에서 마이너스 폰트가 깨지는 문제 해결\r\n",
        "mpl.rcParams['axes.unicode_minus']=False\r\n",
        "\r\n",
        "import warnings\r\n",
        "warnings.filterwarnings('ignore')"
      ],
      "execution_count": 7,
      "outputs": []
    },
    {
      "cell_type": "code",
      "metadata": {
        "id": "wq36ky_k-PZ0",
        "colab": {
          "base_uri": "https://localhost:8080/"
        },
        "outputId": "b0b6a9e7-d585-4d4e-994b-ae523e063853"
      },
      "source": [
        "from google.colab import drive\r\n",
        "drive.mount('/content/drive')"
      ],
      "execution_count": 8,
      "outputs": [
        {
          "output_type": "stream",
          "text": [
            "Drive already mounted at /content/drive; to attempt to forcibly remount, call drive.mount(\"/content/drive\", force_remount=True).\n"
          ],
          "name": "stdout"
        }
      ]
    },
    {
      "cell_type": "code",
      "metadata": {
        "id": "UausnSUf-UK2",
        "colab": {
          "base_uri": "https://localhost:8080/"
        },
        "outputId": "45512a9a-64b6-4477-9f32-46d3edce5d47"
      },
      "source": [
        "train = pd.read_csv('/content/drive/MyDrive/Colab Notebooks/Bike Sharing Demand/train.csv', parse_dates=[\"datetime\"])\r\n",
        "test = pd.read_csv('/content/drive/MyDrive/Colab Notebooks/Bike Sharing Demand/test.csv', parse_dates=[\"datetime\"])\r\n",
        "train.shape,test.shape"
      ],
      "execution_count": 9,
      "outputs": [
        {
          "output_type": "execute_result",
          "data": {
            "text/plain": [
              "((10886, 12), (6493, 9))"
            ]
          },
          "metadata": {
            "tags": []
          },
          "execution_count": 9
        }
      ]
    },
    {
      "cell_type": "markdown",
      "metadata": {
        "id": "J1weCBkR-raj"
      },
      "source": [
        "**Feature Engineering**"
      ]
    },
    {
      "cell_type": "code",
      "metadata": {
        "id": "P58iE4kh-iLe",
        "colab": {
          "base_uri": "https://localhost:8080/"
        },
        "outputId": "af5e9dbf-3c13-422d-d5aa-9846f6cd312f"
      },
      "source": [
        "#datetime 데이터를 보기 편하도록 나눠준다\r\n",
        "train[\"year\"]=train[\"datetime\"].dt.year\r\n",
        "train[\"month\"]=train[\"datetime\"].dt.month\r\n",
        "train[\"day\"]=train[\"datetime\"].dt.day\r\n",
        "train[\"hour\"]=train[\"datetime\"].dt.hour\r\n",
        "train[\"minute\"]=train[\"datetime\"].dt.minute\r\n",
        "train[\"second\"]=train[\"datetime\"].dt.second\r\n",
        "train.shape"
      ],
      "execution_count": 10,
      "outputs": [
        {
          "output_type": "execute_result",
          "data": {
            "text/plain": [
              "(10886, 18)"
            ]
          },
          "metadata": {
            "tags": []
          },
          "execution_count": 10
        }
      ]
    },
    {
      "cell_type": "code",
      "metadata": {
        "id": "PmkOjpkn-6aX",
        "colab": {
          "base_uri": "https://localhost:8080/"
        },
        "outputId": "40391019-1255-4938-9726-5966c498ab76"
      },
      "source": [
        "#datetime 데이터를 보기 편하도록 나눠준다\r\n",
        "test[\"year\"]=test[\"datetime\"].dt.year\r\n",
        "test[\"month\"]=test[\"datetime\"].dt.month\r\n",
        "test[\"day\"]=test[\"datetime\"].dt.day\r\n",
        "test[\"hour\"]=test[\"datetime\"].dt.hour\r\n",
        "test[\"minute\"]=test[\"datetime\"].dt.minute\r\n",
        "test[\"second\"]=test[\"datetime\"].dt.second\r\n",
        "test.shape"
      ],
      "execution_count": 11,
      "outputs": [
        {
          "output_type": "execute_result",
          "data": {
            "text/plain": [
              "(6493, 15)"
            ]
          },
          "metadata": {
            "tags": []
          },
          "execution_count": 11
        }
      ]
    },
    {
      "cell_type": "code",
      "metadata": {
        "id": "n-MS1-Ss_Dr7",
        "colab": {
          "base_uri": "https://localhost:8080/",
          "height": 694
        },
        "outputId": "87b6559a-d40f-4d1f-c2cc-a5662caa413e"
      },
      "source": [
        "#sidspeed 풍속에 0 값이 가장 많다. 잘못 기록된 데이터를 고쳐 줄 필요가 있음\r\n",
        "fig, axes = plt.subplots(nrows=2)\r\n",
        "fig.set_size_inches(18,10)\r\n",
        "\r\n",
        "plt.sca(axes[0])\r\n",
        "plt.xticks(rotation=30,ha='right')\r\n",
        "axes[0].set(ylabel='Count',title=\"train windspeed\")\r\n",
        "sns.countplot(data=train, x=\"windspeed\", ax=axes[0])\r\n",
        "plt.sca(axes[1])\r\n",
        "plt.xticks(rotation=30,ha='right')\r\n",
        "axes[1].set(ylabel='Count',title='test windspeed')\r\n",
        "sns.countplot(data=test,x=\"windspeed\",ax=axes[1])"
      ],
      "execution_count": 12,
      "outputs": [
        {
          "output_type": "execute_result",
          "data": {
            "text/plain": [
              "<matplotlib.axes._subplots.AxesSubplot at 0x7fc92e9b7908>"
            ]
          },
          "metadata": {
            "tags": []
          },
          "execution_count": 12
        },
        {
          "output_type": "display_data",
          "data": {
            "image/png": "[encoded data removed]",
            "text/plain": [
              "<Figure size 1296x720 with 2 Axes>"
            ]
          },
          "metadata": {
            "tags": [],
            "needs_background": "light"
          }
        }
      ]
    },
    {
      "cell_type": "code",
      "metadata": {
        "id": "NtWxlLX3HrgX"
      },
      "source": [
        "#풍속의 0값(측정이 되지 않은 값들)에 특정 값을 넣어준다\r\n",
        "#평균을 구해 일괄적으로 넣어줄 수 있지만, 예측의 정확도를 높이는데 도움이 되지는 않는다\r\n",
        "#train.loc[train[\"windspeed\"] == 0,\"windspeed\"]=train[\"windspeed\"].mean()\r\n",
        "#test.loc[test[\"widnspeed\"] == 0],\"windspeed\"]=test[\"windspeed\"].mean()"
      ],
      "execution_count": 14,
      "outputs": []
    },
    {
      "cell_type": "code",
      "metadata": {
        "colab": {
          "base_uri": "https://localhost:8080/"
        },
        "id": "My2yHiiIIJL-",
        "outputId": "feda42ab-26c0-4c56-86e7-1d4f33e4e949"
      },
      "source": [
        "#풍속이 0인 것과 0이 아닌 것의 세트를 나누어 준다\r\n",
        "trainWind0=train.loc[train['windspeed'] == 0]\r\n",
        "trainWindNot0=train.loc[train['windspeed'] != 0]\r\n",
        "print(trainWind0.shape)\r\n",
        "print(trainWindNot0.shape)"
      ],
      "execution_count": 16,
      "outputs": [
        {
          "output_type": "stream",
          "text": [
            "(1313, 18)\n",
            "(9573, 18)\n"
          ],
          "name": "stdout"
        }
      ]
    },
    {
      "cell_type": "code",
      "metadata": {
        "id": "rROjAhSSIjEW"
      },
      "source": [
        "from sklearn.ensemble import RandomForestClassifier\r\n",
        "\r\n",
        "def predict_windspeed(data):\r\n",
        "    #풍속이 0인 것과 아닌 것을 나눠준다\r\n",
        "    dataWind0=data.loc[train['windspeed'] == 0]\r\n",
        "    dataWindNot0=data.loc[train['windspeed'] != 0]\r\n",
        "    #풍속을 예측한 피처를 선택한다.\r\n",
        "    wCol=[\"season\",\"weather\",\"humidity\",\"month\",\"temp\",\"year\",\"atemp\"]\r\n",
        "    #풍속이 0이 아닌 데이터들의 타입을 스트링으로 바꿔준다\r\n",
        "    dataWindNot0[\"windspeed\"]=dataWindNot0[\"windspeed\"].astype(\"str\")\r\n",
        "    #랜덤포레스트 분류기를 사용한다\r\n",
        "    rfModel_wind=RandomForestClassifier()\r\n",
        "    #wCol에 있는 피처의 값을 바탕으로 풍속을 학습시킨다\r\n",
        "    rfModel_wind.fit(dataWindNot0[wCol],dataWindNot0[\"windspeed\"])\r\n",
        "    #학습한 값을 바탕으로 풍속이 0으로 기록된 데이터의 풍속을 예측\r\n",
        "    wind0Values=rfModel_wind.predict(X=dataWind0[wCol])\r\n",
        "    \r\n",
        "    predictionWind0=dataWind0\r\n",
        "    predictionWindNot0=dataWindNot0\r\n",
        "    \r\n",
        "    predictionWind0[\"windspeed\"]=wind0Values\r\n",
        "    \r\n",
        "    data=predictionWindNot0.append(predictionWind0)\r\n",
        "\r\n",
        "    data[\"windspeed\"]=data[\"windspeed\"].astype(\"float\")\r\n",
        "\r\n",
        "    data.reset_index(inplace=True)\r\n",
        "    data.drop('index',inplace=True,axis=1)\r\n",
        "\r\n",
        "    return data"
      ],
      "execution_count": 19,
      "outputs": []
    },
    {
      "cell_type": "code",
      "metadata": {
        "colab": {
          "base_uri": "https://localhost:8080/",
          "height": 441
        },
        "id": "DRu2HAG2H4WN",
        "outputId": "251b6e14-58a3-49d0-aac5-59029cc9f101"
      },
      "source": [
        "#0값을 조정한다\r\n",
        "train=predict_windspeed(train)\r\n",
        "#test=predict_windspeed(test)\r\n",
        "\r\n",
        "#widspeed의 0값을 조정한 데이터를 시각화\r\n",
        "fig,ax1 = plt.subplots()\r\n",
        "fig.set_size_inches(18,6)\r\n",
        "\r\n",
        "plt.sca(ax1)\r\n",
        "plt.xticks(rotation=30, ha='right')\r\n",
        "ax1.set(ylabel='Count',title='train windspeed')\r\n",
        "sns.countplot(data=train, x=\"windspeed\", ax=ax1)"
      ],
      "execution_count": 20,
      "outputs": [
        {
          "output_type": "execute_result",
          "data": {
            "text/plain": [
              "<matplotlib.axes._subplots.AxesSubplot at 0x7fc927f704e0>"
            ]
          },
          "metadata": {
            "tags": []
          },
          "execution_count": 20
        },
        {
          "output_type": "display_data",
          "data": {
            "image/png": "[encoded data removed]",
            "text/plain": [
              "<Figure size 1296x432 with 1 Axes>"
            ]
          },
          "metadata": {
            "tags": [],
            "needs_background": "light"
          }
        }
      ]
    },
    {
      "cell_type": "markdown",
      "metadata": {
        "id": "ikWNhh_2LYUz"
      },
      "source": [
        "**Feature Selection**\r\n",
        "* 신호와 잡음을 구분해야 한다\r\n",
        "* 피처가 많다고 해서 무조건 좋은 성능을 내지 않는다\r\n",
        "* 피처를 하나씩 추가하고 변경해 가면서 성능이 좋지 않은 피처는 제거하도록 한다"
      ]
    },
    {
      "cell_type": "code",
      "metadata": {
        "id": "4xoPtWSIK-4W"
      },
      "source": [
        "#연속형 feature와 범주형 feature\r\n",
        "#연속형 feature=[\"temp\",\"humidity\",\"windspeed\",\"atemp\"]\r\n",
        "#범주형 feature의 type을 category로 변경\r\n",
        "categorical_feature_names=[\"season\",\"holiday\",\"workingday\",\"weather\",\r\n",
        "                           \"month\",\"year\",\"hour\"]\r\n",
        "\r\n",
        "for var in categorical_feature_names:\r\n",
        "    train[var]=train[var].astype(\"category\")\r\n",
        "    test[var]=test[var].astype(\"category\")"
      ],
      "execution_count": 25,
      "outputs": []
    },
    {
      "cell_type": "code",
      "metadata": {
        "colab": {
          "base_uri": "https://localhost:8080/"
        },
        "id": "tfI02HaYMHJ2",
        "outputId": "83738004-0d6b-4802-8fac-f1008cd462af"
      },
      "source": [
        "feature_names=[\"season\",\"weather\",\"temp\",\"atemp\",\"humidity\",\"windspeed\",\"year\",\"hour\",\"holiday\",\"workingday\"]\r\n",
        "feature_names"
      ],
      "execution_count": 26,
      "outputs": [
        {
          "output_type": "execute_result",
          "data": {
            "text/plain": [
              "['season',\n",
              " 'weather',\n",
              " 'temp',\n",
              " 'atemp',\n",
              " 'humidity',\n",
              " 'windspeed',\n",
              " 'year',\n",
              " 'hour',\n",
              " 'holiday',\n",
              " 'workingday']"
            ]
          },
          "metadata": {
            "tags": []
          },
          "execution_count": 26
        }
      ]
    },
    {
      "cell_type": "code",
      "metadata": {
        "colab": {
          "base_uri": "https://localhost:8080/",
          "height": 222
        },
        "id": "OGv-YqPeNIhR",
        "outputId": "eeb311d4-5d5b-4629-b587-6e57d5f6f0c1"
      },
      "source": [
        "X_train=train[feature_names]\r\n",
        "print(X_train.shape)\r\n",
        "X_train.head()"
      ],
      "execution_count": 28,
      "outputs": [
        {
          "output_type": "stream",
          "text": [
            "(10886, 10)\n"
          ],
          "name": "stdout"
        },
        {
          "output_type": "execute_result",
          "data": {
            "text/html": [
              "<div>\n",
              "<style scoped>\n",
              "    .dataframe tbody tr th:only-of-type {\n",
              "        vertical-align: middle;\n",
              "    }\n",
              "\n",
              "    .dataframe tbody tr th {\n",
              "        vertical-align: top;\n",
              "    }\n",
              "\n",
              "    .dataframe thead th {\n",
              "        text-align: right;\n",
              "    }\n",
              "</style>\n",
              "<table border=\"1\" class=\"dataframe\">\n",
              "  <thead>\n",
              "    <tr style=\"text-align: right;\">\n",
              "      <th></th>\n",
              "      <th>season</th>\n",
              "      <th>weather</th>\n",
              "      <th>temp</th>\n",
              "      <th>atemp</th>\n",
              "      <th>humidity</th>\n",
              "      <th>windspeed</th>\n",
              "      <th>year</th>\n",
              "      <th>hour</th>\n",
              "      <th>holiday</th>\n",
              "      <th>workingday</th>\n",
              "    </tr>\n",
              "  </thead>\n",
              "  <tbody>\n",
              "    <tr>\n",
              "      <th>0</th>\n",
              "      <td>1</td>\n",
              "      <td>2</td>\n",
              "      <td>9.84</td>\n",
              "      <td>12.880</td>\n",
              "      <td>75</td>\n",
              "      <td>6.0032</td>\n",
              "      <td>2011</td>\n",
              "      <td>5</td>\n",
              "      <td>0</td>\n",
              "      <td>0</td>\n",
              "    </tr>\n",
              "    <tr>\n",
              "      <th>1</th>\n",
              "      <td>1</td>\n",
              "      <td>1</td>\n",
              "      <td>15.58</td>\n",
              "      <td>19.695</td>\n",
              "      <td>76</td>\n",
              "      <td>16.9979</td>\n",
              "      <td>2011</td>\n",
              "      <td>10</td>\n",
              "      <td>0</td>\n",
              "      <td>0</td>\n",
              "    </tr>\n",
              "    <tr>\n",
              "      <th>2</th>\n",
              "      <td>1</td>\n",
              "      <td>1</td>\n",
              "      <td>14.76</td>\n",
              "      <td>16.665</td>\n",
              "      <td>81</td>\n",
              "      <td>19.0012</td>\n",
              "      <td>2011</td>\n",
              "      <td>11</td>\n",
              "      <td>0</td>\n",
              "      <td>0</td>\n",
              "    </tr>\n",
              "    <tr>\n",
              "      <th>3</th>\n",
              "      <td>1</td>\n",
              "      <td>1</td>\n",
              "      <td>17.22</td>\n",
              "      <td>21.210</td>\n",
              "      <td>77</td>\n",
              "      <td>19.0012</td>\n",
              "      <td>2011</td>\n",
              "      <td>12</td>\n",
              "      <td>0</td>\n",
              "      <td>0</td>\n",
              "    </tr>\n",
              "    <tr>\n",
              "      <th>4</th>\n",
              "      <td>1</td>\n",
              "      <td>2</td>\n",
              "      <td>18.86</td>\n",
              "      <td>22.725</td>\n",
              "      <td>72</td>\n",
              "      <td>19.9995</td>\n",
              "      <td>2011</td>\n",
              "      <td>13</td>\n",
              "      <td>0</td>\n",
              "      <td>0</td>\n",
              "    </tr>\n",
              "  </tbody>\n",
              "</table>\n",
              "</div>"
            ],
            "text/plain": [
              "  season weather   temp   atemp  ...  year  hour holiday workingday\n",
              "0      1       2   9.84  12.880  ...  2011     5       0          0\n",
              "1      1       1  15.58  19.695  ...  2011    10       0          0\n",
              "2      1       1  14.76  16.665  ...  2011    11       0          0\n",
              "3      1       1  17.22  21.210  ...  2011    12       0          0\n",
              "4      1       2  18.86  22.725  ...  2011    13       0          0\n",
              "\n",
              "[5 rows x 10 columns]"
            ]
          },
          "metadata": {
            "tags": []
          },
          "execution_count": 28
        }
      ]
    },
    {
      "cell_type": "code",
      "metadata": {
        "colab": {
          "base_uri": "https://localhost:8080/",
          "height": 222
        },
        "id": "xXIjkYClNN_M",
        "outputId": "04332366-a28a-468d-8cc8-c3623f25b468"
      },
      "source": [
        "X_test=test[feature_names]\r\n",
        "print(X_test.shape)\r\n",
        "X_test.head()"
      ],
      "execution_count": 29,
      "outputs": [
        {
          "output_type": "stream",
          "text": [
            "(6493, 10)\n"
          ],
          "name": "stdout"
        },
        {
          "output_type": "execute_result",
          "data": {
            "text/html": [
              "<div>\n",
              "<style scoped>\n",
              "    .dataframe tbody tr th:only-of-type {\n",
              "        vertical-align: middle;\n",
              "    }\n",
              "\n",
              "    .dataframe tbody tr th {\n",
              "        vertical-align: top;\n",
              "    }\n",
              "\n",
              "    .dataframe thead th {\n",
              "        text-align: right;\n",
              "    }\n",
              "</style>\n",
              "<table border=\"1\" class=\"dataframe\">\n",
              "  <thead>\n",
              "    <tr style=\"text-align: right;\">\n",
              "      <th></th>\n",
              "      <th>season</th>\n",
              "      <th>weather</th>\n",
              "      <th>temp</th>\n",
              "      <th>atemp</th>\n",
              "      <th>humidity</th>\n",
              "      <th>windspeed</th>\n",
              "      <th>year</th>\n",
              "      <th>hour</th>\n",
              "      <th>holiday</th>\n",
              "      <th>workingday</th>\n",
              "    </tr>\n",
              "  </thead>\n",
              "  <tbody>\n",
              "    <tr>\n",
              "      <th>0</th>\n",
              "      <td>1</td>\n",
              "      <td>1</td>\n",
              "      <td>10.66</td>\n",
              "      <td>11.365</td>\n",
              "      <td>56</td>\n",
              "      <td>26.0027</td>\n",
              "      <td>2011</td>\n",
              "      <td>0</td>\n",
              "      <td>0</td>\n",
              "      <td>1</td>\n",
              "    </tr>\n",
              "    <tr>\n",
              "      <th>1</th>\n",
              "      <td>1</td>\n",
              "      <td>1</td>\n",
              "      <td>10.66</td>\n",
              "      <td>13.635</td>\n",
              "      <td>56</td>\n",
              "      <td>0.0000</td>\n",
              "      <td>2011</td>\n",
              "      <td>1</td>\n",
              "      <td>0</td>\n",
              "      <td>1</td>\n",
              "    </tr>\n",
              "    <tr>\n",
              "      <th>2</th>\n",
              "      <td>1</td>\n",
              "      <td>1</td>\n",
              "      <td>10.66</td>\n",
              "      <td>13.635</td>\n",
              "      <td>56</td>\n",
              "      <td>0.0000</td>\n",
              "      <td>2011</td>\n",
              "      <td>2</td>\n",
              "      <td>0</td>\n",
              "      <td>1</td>\n",
              "    </tr>\n",
              "    <tr>\n",
              "      <th>3</th>\n",
              "      <td>1</td>\n",
              "      <td>1</td>\n",
              "      <td>10.66</td>\n",
              "      <td>12.880</td>\n",
              "      <td>56</td>\n",
              "      <td>11.0014</td>\n",
              "      <td>2011</td>\n",
              "      <td>3</td>\n",
              "      <td>0</td>\n",
              "      <td>1</td>\n",
              "    </tr>\n",
              "    <tr>\n",
              "      <th>4</th>\n",
              "      <td>1</td>\n",
              "      <td>1</td>\n",
              "      <td>10.66</td>\n",
              "      <td>12.880</td>\n",
              "      <td>56</td>\n",
              "      <td>11.0014</td>\n",
              "      <td>2011</td>\n",
              "      <td>4</td>\n",
              "      <td>0</td>\n",
              "      <td>1</td>\n",
              "    </tr>\n",
              "  </tbody>\n",
              "</table>\n",
              "</div>"
            ],
            "text/plain": [
              "  season weather   temp   atemp  ...  year  hour holiday workingday\n",
              "0      1       1  10.66  11.365  ...  2011     0       0          1\n",
              "1      1       1  10.66  13.635  ...  2011     1       0          1\n",
              "2      1       1  10.66  13.635  ...  2011     2       0          1\n",
              "3      1       1  10.66  12.880  ...  2011     3       0          1\n",
              "4      1       1  10.66  12.880  ...  2011     4       0          1\n",
              "\n",
              "[5 rows x 10 columns]"
            ]
          },
          "metadata": {
            "tags": []
          },
          "execution_count": 29
        }
      ]
    },
    {
      "cell_type": "code",
      "metadata": {
        "colab": {
          "base_uri": "https://localhost:8080/"
        },
        "id": "nIqrEMLmNYu8",
        "outputId": "4fedb145-dfd3-4325-b31a-0b9f9e093217"
      },
      "source": [
        "label_name=\"count\"\r\n",
        "y_train=train[label_name]\r\n",
        "print(y_train.shape)\r\n",
        "y_train.head()"
      ],
      "execution_count": 30,
      "outputs": [
        {
          "output_type": "stream",
          "text": [
            "(10886,)\n"
          ],
          "name": "stdout"
        },
        {
          "output_type": "execute_result",
          "data": {
            "text/plain": [
              "0     1\n",
              "1    36\n",
              "2    56\n",
              "3    84\n",
              "4    94\n",
              "Name: count, dtype: int64"
            ]
          },
          "metadata": {
            "tags": []
          },
          "execution_count": 30
        }
      ]
    },
    {
      "cell_type": "markdown",
      "metadata": {
        "id": "xPkRjKt3Niq8"
      },
      "source": [
        "**Score** \\\r\n",
        "**RMSLE** \\\r\n",
        "과대평가된 항목보다는 과소평가된 항목에 패널티를 준다\r\n",
        "오차(Error)를 제곱(Square)해서 평균(Mean)한 값의 제곱근(Root)으로 값이 작을 수록 정밀도가 높다.\r\n",
        "0에 가까운 값이 나올 수록 정밀도가 높은 값이다."
      ]
    },
    {
      "cell_type": "code",
      "metadata": {
        "colab": {
          "base_uri": "https://localhost:8080/"
        },
        "id": "suMD2mcXNh7U",
        "outputId": "7e22d7d1-e035-4bf2-c5ee-372b80a89669"
      },
      "source": [
        "from sklearn.metrics import make_scorer\r\n",
        "\r\n",
        "def rmsle(predicted_values, actual_values):\r\n",
        "    #넘파이로 배열 형태로 바꿔준다\r\n",
        "    predicted_values=np.array(predicted_values)\r\n",
        "    actual_values=np.array(actual_values)\r\n",
        "    #예측값과 실제 값에 1을 더하고 로그를 씌워준다\r\n",
        "    log_predict=np.log(predicted_values + 1)\r\n",
        "    log_actual=np.log(actual_values+1)\r\n",
        "    #위에서 계산한 예측값에서 실제값을 빼주고 제곱을 한다\r\n",
        "    difference=log_predict-log_actual\r\n",
        "    #difference=(log_predict-log_actual)**2\r\n",
        "    difference=np.square(difference)\r\n",
        "    #평균을 낸다\r\n",
        "    mean_difference=difference.mean()\r\n",
        "    #다시 루트를 씌운다\r\n",
        "    score=np.sqrt(mean_difference)\r\n",
        "    \r\n",
        "    return score\r\n",
        "\r\n",
        "rmsle_scorer=make_scorer(rmsle)\r\n",
        "rmsle_scorer"
      ],
      "execution_count": 32,
      "outputs": [
        {
          "output_type": "execute_result",
          "data": {
            "text/plain": [
              "make_scorer(rmsle)"
            ]
          },
          "metadata": {
            "tags": []
          },
          "execution_count": 32
        }
      ]
    },
    {
      "cell_type": "code",
      "metadata": {
        "id": "Dcqiiic3OHxc"
      },
      "source": [
        "from sklearn.model_selection import KFold\r\n",
        "from sklearn.model_selection import cross_val_score\r\n",
        "\r\n",
        "k_fold=KFold(n_splits=10,shuffle=True,random_state=0)"
      ],
      "execution_count": 33,
      "outputs": []
    },
    {
      "cell_type": "markdown",
      "metadata": {
        "id": "SpB0wE4mObFy"
      },
      "source": [
        "**RandomForest**"
      ]
    },
    {
      "cell_type": "code",
      "metadata": {
        "colab": {
          "base_uri": "https://localhost:8080/"
        },
        "id": "cIwi14SHN_nv",
        "outputId": "9302a75d-18fa-40d5-a859-601714fa6be1"
      },
      "source": [
        "from sklearn.ensemble import RandomForestRegressor\r\n",
        "\r\n",
        "max_depth_list=[]\r\n",
        "model=RandomForestRegressor(n_estimators=100,n_jobs=-1,random_state=0)\r\n",
        "model"
      ],
      "execution_count": 34,
      "outputs": [
        {
          "output_type": "execute_result",
          "data": {
            "text/plain": [
              "RandomForestRegressor(bootstrap=True, ccp_alpha=0.0, criterion='mse',\n",
              "                      max_depth=None, max_features='auto', max_leaf_nodes=None,\n",
              "                      max_samples=None, min_impurity_decrease=0.0,\n",
              "                      min_impurity_split=None, min_samples_leaf=1,\n",
              "                      min_samples_split=2, min_weight_fraction_leaf=0.0,\n",
              "                      n_estimators=100, n_jobs=-1, oob_score=False,\n",
              "                      random_state=0, verbose=0, warm_start=False)"
            ]
          },
          "metadata": {
            "tags": []
          },
          "execution_count": 34
        }
      ]
    },
    {
      "cell_type": "code",
      "metadata": {
        "colab": {
          "base_uri": "https://localhost:8080/"
        },
        "id": "ufA-gLc5OupN",
        "outputId": "58208174-3b03-4bf7-c360-1859767b0a2e"
      },
      "source": [
        "%time score=cross_val_score(model,X_train,y_train,cv=k_fold,scoring=rmsle_scorer)\r\n",
        "score=score.mean()\r\n",
        "#0에 근접할수록 좋은 데이터\r\n",
        "print(\"Score={0:.5f}\".format(score))"
      ],
      "execution_count": 35,
      "outputs": [
        {
          "output_type": "stream",
          "text": [
            "CPU times: user 3.26 s, sys: 649 ms, total: 3.91 s\n",
            "Wall time: 28.2 s\n",
            "Score=0.35222\n"
          ],
          "name": "stdout"
        }
      ]
    },
    {
      "cell_type": "markdown",
      "metadata": {
        "id": "tXV2u4iGPKJp"
      },
      "source": [
        "**Train**"
      ]
    },
    {
      "cell_type": "code",
      "metadata": {
        "colab": {
          "base_uri": "https://localhost:8080/"
        },
        "id": "akLwcsMJO-gH",
        "outputId": "95a77ce2-1cf0-446f-9928-593c6af1537b"
      },
      "source": [
        "#학습시킴,fitting - feature와 lable을 넣어주면 알아서 학습함\r\n",
        "model.fit(X_train,y_train)"
      ],
      "execution_count": 36,
      "outputs": [
        {
          "output_type": "execute_result",
          "data": {
            "text/plain": [
              "RandomForestRegressor(bootstrap=True, ccp_alpha=0.0, criterion='mse',\n",
              "                      max_depth=None, max_features='auto', max_leaf_nodes=None,\n",
              "                      max_samples=None, min_impurity_decrease=0.0,\n",
              "                      min_impurity_split=None, min_samples_leaf=1,\n",
              "                      min_samples_split=2, min_weight_fraction_leaf=0.0,\n",
              "                      n_estimators=100, n_jobs=-1, oob_score=False,\n",
              "                      random_state=0, verbose=0, warm_start=False)"
            ]
          },
          "metadata": {
            "tags": []
          },
          "execution_count": 36
        }
      ]
    },
    {
      "cell_type": "code",
      "metadata": {
        "colab": {
          "base_uri": "https://localhost:8080/"
        },
        "id": "aLJmHhY8PWI0",
        "outputId": "1d8f0dc2-193c-4004-9075-e4a8c9215d4c"
      },
      "source": [
        "#예측\r\n",
        "predictions=model.predict(X_test)\r\n",
        "print(predictions.shape)\r\n",
        "predictions[0:10]"
      ],
      "execution_count": 37,
      "outputs": [
        {
          "output_type": "stream",
          "text": [
            "(6493,)\n"
          ],
          "name": "stdout"
        },
        {
          "output_type": "execute_result",
          "data": {
            "text/plain": [
              "array([  9.62      ,   4.95      ,   4.44      ,   3.43333333,\n",
              "         2.88      ,   6.72      ,  39.25      , 104.86      ,\n",
              "       235.01      , 129.47      ])"
            ]
          },
          "metadata": {
            "tags": []
          },
          "execution_count": 37
        }
      ]
    },
    {
      "cell_type": "code",
      "metadata": {
        "colab": {
          "base_uri": "https://localhost:8080/",
          "height": 368
        },
        "id": "kkZ0AUkMPeYc",
        "outputId": "cec491a5-0d11-4896-d775-4642c2f06d36"
      },
      "source": [
        "fig,(ax1,ax2)=plt.subplots(ncols=2)\r\n",
        "fig.set_size_inches(12,5)\r\n",
        "sns.distplot(y_train,ax=ax1,bins=50)\r\n",
        "ax1.set(title=\"train\")\r\n",
        "sns.distplot(predictions,ax=ax2,bins=50)\r\n",
        "ax2.set(title=\"test\")"
      ],
      "execution_count": 38,
      "outputs": [
        {
          "output_type": "execute_result",
          "data": {
            "text/plain": [
              "[Text(0.5, 1.0, 'test')]"
            ]
          },
          "metadata": {
            "tags": []
          },
          "execution_count": 38
        },
        {
          "output_type": "display_data",
          "data": {
            "image/png": "[encoded data removed]",
            "text/plain": [
              "<Figure size 864x360 with 2 Axes>"
            ]
          },
          "metadata": {
            "tags": [],
            "needs_background": "light"
          }
        }
      ]
    },
    {
      "cell_type": "markdown",
      "metadata": {
        "id": "LJLMLXjHP45J"
      },
      "source": [
        "**Submit**"
      ]
    },
    {
      "cell_type": "code",
      "metadata": {
        "colab": {
          "base_uri": "https://localhost:8080/",
          "height": 419
        },
        "id": "BSyMsZbVPxX1",
        "outputId": "9d503ca8-575e-47c9-dff0-83e89fa31157"
      },
      "source": [
        "submission=pd.read_csv(\"/content/drive/MyDrive/Colab Notebooks/Bike Sharing Demand/sampleSubmission.csv\")\r\n",
        "submission"
      ],
      "execution_count": 39,
      "outputs": [
        {
          "output_type": "execute_result",
          "data": {
            "text/html": [
              "<div>\n",
              "<style scoped>\n",
              "    .dataframe tbody tr th:only-of-type {\n",
              "        vertical-align: middle;\n",
              "    }\n",
              "\n",
              "    .dataframe tbody tr th {\n",
              "        vertical-align: top;\n",
              "    }\n",
              "\n",
              "    .dataframe thead th {\n",
              "        text-align: right;\n",
              "    }\n",
              "</style>\n",
              "<table border=\"1\" class=\"dataframe\">\n",
              "  <thead>\n",
              "    <tr style=\"text-align: right;\">\n",
              "      <th></th>\n",
              "      <th>datetime</th>\n",
              "      <th>count</th>\n",
              "    </tr>\n",
              "  </thead>\n",
              "  <tbody>\n",
              "    <tr>\n",
              "      <th>0</th>\n",
              "      <td>2011-01-20 00:00:00</td>\n",
              "      <td>0</td>\n",
              "    </tr>\n",
              "    <tr>\n",
              "      <th>1</th>\n",
              "      <td>2011-01-20 01:00:00</td>\n",
              "      <td>0</td>\n",
              "    </tr>\n",
              "    <tr>\n",
              "      <th>2</th>\n",
              "      <td>2011-01-20 02:00:00</td>\n",
              "      <td>0</td>\n",
              "    </tr>\n",
              "    <tr>\n",
              "      <th>3</th>\n",
              "      <td>2011-01-20 03:00:00</td>\n",
              "      <td>0</td>\n",
              "    </tr>\n",
              "    <tr>\n",
              "      <th>4</th>\n",
              "      <td>2011-01-20 04:00:00</td>\n",
              "      <td>0</td>\n",
              "    </tr>\n",
              "    <tr>\n",
              "      <th>...</th>\n",
              "      <td>...</td>\n",
              "      <td>...</td>\n",
              "    </tr>\n",
              "    <tr>\n",
              "      <th>6488</th>\n",
              "      <td>2012-12-31 19:00:00</td>\n",
              "      <td>0</td>\n",
              "    </tr>\n",
              "    <tr>\n",
              "      <th>6489</th>\n",
              "      <td>2012-12-31 20:00:00</td>\n",
              "      <td>0</td>\n",
              "    </tr>\n",
              "    <tr>\n",
              "      <th>6490</th>\n",
              "      <td>2012-12-31 21:00:00</td>\n",
              "      <td>0</td>\n",
              "    </tr>\n",
              "    <tr>\n",
              "      <th>6491</th>\n",
              "      <td>2012-12-31 22:00:00</td>\n",
              "      <td>0</td>\n",
              "    </tr>\n",
              "    <tr>\n",
              "      <th>6492</th>\n",
              "      <td>2012-12-31 23:00:00</td>\n",
              "      <td>0</td>\n",
              "    </tr>\n",
              "  </tbody>\n",
              "</table>\n",
              "<p>6493 rows × 2 columns</p>\n",
              "</div>"
            ],
            "text/plain": [
              "                 datetime  count\n",
              "0     2011-01-20 00:00:00      0\n",
              "1     2011-01-20 01:00:00      0\n",
              "2     2011-01-20 02:00:00      0\n",
              "3     2011-01-20 03:00:00      0\n",
              "4     2011-01-20 04:00:00      0\n",
              "...                   ...    ...\n",
              "6488  2012-12-31 19:00:00      0\n",
              "6489  2012-12-31 20:00:00      0\n",
              "6490  2012-12-31 21:00:00      0\n",
              "6491  2012-12-31 22:00:00      0\n",
              "6492  2012-12-31 23:00:00      0\n",
              "\n",
              "[6493 rows x 2 columns]"
            ]
          },
          "metadata": {
            "tags": []
          },
          "execution_count": 39
        }
      ]
    },
    {
      "cell_type": "code",
      "metadata": {
        "colab": {
          "base_uri": "https://localhost:8080/",
          "height": 222
        },
        "id": "fBncM18zQEaj",
        "outputId": "fcd60f04-45ee-4bdd-ad15-03cea2556b66"
      },
      "source": [
        "submission[\"count\"]=predictions\r\n",
        "print(submission.shape)\r\n",
        "submission.head()"
      ],
      "execution_count": 40,
      "outputs": [
        {
          "output_type": "stream",
          "text": [
            "(6493, 2)\n"
          ],
          "name": "stdout"
        },
        {
          "output_type": "execute_result",
          "data": {
            "text/html": [
              "<div>\n",
              "<style scoped>\n",
              "    .dataframe tbody tr th:only-of-type {\n",
              "        vertical-align: middle;\n",
              "    }\n",
              "\n",
              "    .dataframe tbody tr th {\n",
              "        vertical-align: top;\n",
              "    }\n",
              "\n",
              "    .dataframe thead th {\n",
              "        text-align: right;\n",
              "    }\n",
              "</style>\n",
              "<table border=\"1\" class=\"dataframe\">\n",
              "  <thead>\n",
              "    <tr style=\"text-align: right;\">\n",
              "      <th></th>\n",
              "      <th>datetime</th>\n",
              "      <th>count</th>\n",
              "    </tr>\n",
              "  </thead>\n",
              "  <tbody>\n",
              "    <tr>\n",
              "      <th>0</th>\n",
              "      <td>2011-01-20 00:00:00</td>\n",
              "      <td>9.620000</td>\n",
              "    </tr>\n",
              "    <tr>\n",
              "      <th>1</th>\n",
              "      <td>2011-01-20 01:00:00</td>\n",
              "      <td>4.950000</td>\n",
              "    </tr>\n",
              "    <tr>\n",
              "      <th>2</th>\n",
              "      <td>2011-01-20 02:00:00</td>\n",
              "      <td>4.440000</td>\n",
              "    </tr>\n",
              "    <tr>\n",
              "      <th>3</th>\n",
              "      <td>2011-01-20 03:00:00</td>\n",
              "      <td>3.433333</td>\n",
              "    </tr>\n",
              "    <tr>\n",
              "      <th>4</th>\n",
              "      <td>2011-01-20 04:00:00</td>\n",
              "      <td>2.880000</td>\n",
              "    </tr>\n",
              "  </tbody>\n",
              "</table>\n",
              "</div>"
            ],
            "text/plain": [
              "              datetime     count\n",
              "0  2011-01-20 00:00:00  9.620000\n",
              "1  2011-01-20 01:00:00  4.950000\n",
              "2  2011-01-20 02:00:00  4.440000\n",
              "3  2011-01-20 03:00:00  3.433333\n",
              "4  2011-01-20 04:00:00  2.880000"
            ]
          },
          "metadata": {
            "tags": []
          },
          "execution_count": 40
        }
      ]
    },
    {
      "cell_type": "code",
      "metadata": {
        "id": "6zACyVVVQKtG"
      },
      "source": [
        "#점수를 파일명에 적어준다\r\n",
        "submission.to_csv(\"/content/drive/MyDrive/Colab Notebooks/Bike Sharing Demand/Score_{0:.5f}_submission.csv\".format(score),index=False)"
      ],
      "execution_count": 42,
      "outputs": []
    },
    {
      "cell_type": "code",
      "metadata": {
        "id": "bXyhfHTuQOvE"
      },
      "source": [
        ""
      ],
      "execution_count": null,
      "outputs": []
    }
  ]
}